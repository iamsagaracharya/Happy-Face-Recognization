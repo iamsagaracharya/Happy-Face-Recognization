{
 "cells": [
  {
   "cell_type": "code",
   "execution_count": 1,
   "metadata": {
    "id": "wAt4PHrVRKpM"
   },
   "outputs": [
    {
     "name": "stderr",
     "output_type": "stream",
     "text": [
      "/var/folders/2d/43gz16bj16192302z4mxx_8r0000gn/T/ipykernel_17820/2116776855.py:8: DeprecationWarning: \n",
      "Pyarrow will become a required dependency of pandas in the next major release of pandas (pandas 3.0),\n",
      "(to allow more performant data types, such as the Arrow string type, and better interoperability with other libraries)\n",
      "but was not found to be installed on your system.\n",
      "If this would cause problems for you,\n",
      "please provide us feedback at https://github.com/pandas-dev/pandas/issues/54466\n",
      "        \n",
      "  import pandas as pd\n"
     ]
    }
   ],
   "source": [
    "import math\n",
    "import numpy as np\n",
    "import h5py\n",
    "import matplotlib.pyplot as plt\n",
    "from matplotlib.pyplot import imread\n",
    "import scipy\n",
    "from PIL import Image\n",
    "import pandas as pd\n",
    "import tensorflow as tf\n",
    "import tensorflow.keras.layers as tfl\n",
    "from tensorflow.python.framework import ops\n",
    "\n",
    "%matplotlib inline\n",
    "np.random.seed(1)"
   ]
  },
  {
   "cell_type": "code",
   "execution_count": 2,
   "metadata": {
    "colab": {
     "base_uri": "https://localhost:8080/"
    },
    "id": "xHzdWgoZTnhg",
    "outputId": "c9fec35d-38b2-44ea-ec3f-8f1a2acb6d4d"
   },
   "outputs": [
    {
     "data": {
      "text/plain": [
       "<HDF5 file \"train_happy.h5\" (mode r)>"
      ]
     },
     "execution_count": 2,
     "metadata": {},
     "output_type": "execute_result"
    }
   ],
   "source": [
    "# importing dataset\n",
    "train_dataset = h5py.File('train_happy.h5', \"r\")\n",
    "train_dataset"
   ]
  },
  {
   "cell_type": "code",
   "execution_count": 3,
   "metadata": {
    "id": "RNS8esF7iQBV"
   },
   "outputs": [],
   "source": [
    "# Load train dataset\n",
    "train_dataset = h5py.File('train_happy.h5', \"r\")\n",
    "X_train_org = np.array(train_dataset[\"train_set_x\"][:]) # Features\n",
    "y_train_org = np.array(train_dataset[\"train_set_y\"][:]) # Labels\n"
   ]
  },
  {
   "cell_type": "code",
   "execution_count": 4,
   "metadata": {
    "id": "6OiBmwlMiU84"
   },
   "outputs": [],
   "source": [
    "# Load test dataset\n",
    "test_dataset = h5py.File('test_happy.h5', \"r\")\n",
    "X_test_org = np.array(test_dataset[\"test_set_x\"][:]) # Features\n",
    "y_test_org = np.array(test_dataset[\"test_set_y\"][:]) # Labels"
   ]
  },
  {
   "cell_type": "code",
   "execution_count": 5,
   "metadata": {
    "id": "cyNwpcxqiayW"
   },
   "outputs": [],
   "source": [
    "# Close the dataset files\n",
    "train_dataset.close()\n",
    "test_dataset.close()"
   ]
  },
  {
   "cell_type": "code",
   "execution_count": 6,
   "metadata": {
    "colab": {
     "base_uri": "https://localhost:8080/"
    },
    "id": "kNinmBmBidHa",
    "outputId": "21ab49ed-a41a-4d7b-f767-1368e0cf6202"
   },
   "outputs": [
    {
     "name": "stdout",
     "output_type": "stream",
     "text": [
      "X_train_org shape: (600, 64, 64, 3)\n",
      "y_train_org shape: (600,)\n",
      "X_test_org shape: (150, 64, 64, 3)\n",
      "y_test_org shape: (150,)\n"
     ]
    }
   ],
   "source": [
    "# Print the shapes of the data to make sure they're loaded correctly\n",
    "print(\"X_train_org shape:\", X_train_org.shape)\n",
    "print(\"y_train_org shape:\", y_train_org.shape)\n",
    "print(\"X_test_org shape:\", X_test_org.shape)\n",
    "print(\"y_test_org shape:\", y_test_org.shape)"
   ]
  },
  {
   "cell_type": "code",
   "execution_count": 7,
   "metadata": {
    "id": "YQFeLvEeRcWv"
   },
   "outputs": [],
   "source": [
    "# Normalize image vectors\n",
    "X_train = X_train_org/255\n",
    "X_test = X_test_org/255"
   ]
  },
  {
   "cell_type": "code",
   "execution_count": 8,
   "metadata": {
    "id": "R4NfqooRRcUj"
   },
   "outputs": [],
   "source": [
    "# Reshape\n",
    "y_train = y_train_org.T\n",
    "y_test = y_test_org.T"
   ]
  },
  {
   "cell_type": "code",
   "execution_count": 9,
   "metadata": {
    "colab": {
     "base_uri": "https://localhost:8080/"
    },
    "id": "sEqdU66RRcSW",
    "outputId": "ed1d35d1-0a25-4e0b-fd0c-9a35936f950f"
   },
   "outputs": [
    {
     "name": "stdout",
     "output_type": "stream",
     "text": [
      "number of training examples = 600\n",
      "number of test examples = 150\n",
      "X_train shape: (600, 64, 64, 3)\n",
      "Y_train shape: (600,)\n",
      "X_test shape: (150, 64, 64, 3)\n",
      "Y_test shape: (150,)\n"
     ]
    }
   ],
   "source": [
    "print (\"number of training examples = \" + str(X_train.shape[0]))\n",
    "print (\"number of test examples = \" + str(X_test.shape[0]))\n",
    "print (\"X_train shape: \" + str(X_train.shape))\n",
    "print (\"Y_train shape: \" + str(y_train.shape))\n",
    "print (\"X_test shape: \" + str(X_test.shape))\n",
    "print (\"Y_test shape: \" + str(y_test.shape))"
   ]
  },
  {
   "cell_type": "code",
   "execution_count": 10,
   "metadata": {
    "colab": {
     "base_uri": "https://localhost:8080/"
    },
    "id": "ZWZ1Q9Ngm7LL",
    "outputId": "0c8cf4e6-5cd3-44c7-b128-280825c93dd0"
   },
   "outputs": [
    {
     "name": "stdout",
     "output_type": "stream",
     "text": [
      "<class 'numpy.ndarray'>\n",
      "(600, 64, 64, 3)\n"
     ]
    }
   ],
   "source": [
    "print(type(X_train))\n",
    "print(X_train.shape)"
   ]
  },
  {
   "cell_type": "code",
   "execution_count": 11,
   "metadata": {
    "colab": {
     "base_uri": "https://localhost:8080/",
     "height": 432
    },
    "id": "jXXNiT6ERcQA",
    "outputId": "77567e42-40ab-4dd4-e07b-f7dda798c6b0"
   },
   "outputs": [
    {
     "data": {
      "image/png": "[encoded data removed]",
      "text/plain": [
       "<Figure size 640x480 with 1 Axes>"
      ]
     },
     "metadata": {},
     "output_type": "display_data"
    }
   ],
   "source": [
    "index = 124\n",
    "plt.imshow(X_train[index]) #display sample training image\n",
    "plt.show()"
   ]
  },
  {
   "cell_type": "code",
   "execution_count": 12,
   "metadata": {
    "id": "MueSK2dPRcNo"
   },
   "outputs": [],
   "source": [
    "def happy_model():\n",
    "  model = tf.keras.Sequential([\n",
    "        tfl.ZeroPadding2D(padding = (3,3), input_shape = (64,64,3)),\n",
    "        tfl.Conv2D(32, (7,7), strides = (1,1)),\n",
    "        tfl.BatchNormalization(axis = 3),\n",
    "        tfl.ReLU(),\n",
    "        tfl.MaxPool2D(), # default pool_size (2,2)\n",
    "        tfl.Flatten(),\n",
    "        tfl.Dense(1, activation = \"sigmoid\")\n",
    "    ])\n",
    "  return model"
   ]
  },
  {
   "cell_type": "code",
   "execution_count": 13,
   "metadata": {
    "colab": {
     "base_uri": "https://localhost:8080/"
    },
    "id": "ZW7neepfRcLN",
    "outputId": "80e3df4e-4eb1-409f-b3d2-0ae8ec70c8aa"
   },
   "outputs": [
    {
     "data": {
      "text/plain": [
       "<keras.src.engine.sequential.Sequential at 0x2a9aedad0>"
      ]
     },
     "execution_count": 13,
     "metadata": {},
     "output_type": "execute_result"
    }
   ],
   "source": [
    "happy_model = happy_model()\n",
    "happy_model"
   ]
  },
  {
   "cell_type": "code",
   "execution_count": 14,
   "metadata": {
    "id": "CGPWP_wRRcIr"
   },
   "outputs": [],
   "source": [
    "happy_model.compile(optimizer = \"adam\",\n",
    "                    loss = \"binary_crossentropy\",\n",
    "                    metrics = [\"accuracy\"])"
   ]
  },
  {
   "cell_type": "code",
   "execution_count": 15,
   "metadata": {
    "colab": {
     "base_uri": "https://localhost:8080/"
    },
    "id": "zFC5aVReRcGE",
    "outputId": "33e34e0e-9e5b-4c33-9b13-53d6fe83790b"
   },
   "outputs": [
    {
     "name": "stdout",
     "output_type": "stream",
     "text": [
      "Model: \"sequential\"\n",
      "_________________________________________________________________\n",
      " Layer (type)                Output Shape              Param #   \n",
      "=================================================================\n",
      " zero_padding2d (ZeroPaddin  (None, 70, 70, 3)         0         \n",
      " g2D)                                                            \n",
      "                                                                 \n",
      " conv2d (Conv2D)             (None, 64, 64, 32)        4736      \n",
      "                                                                 \n",
      " batch_normalization (Batch  (None, 64, 64, 32)        128       \n",
      " Normalization)                                                  \n",
      "                                                                 \n",
      " re_lu (ReLU)                (None, 64, 64, 32)        0         \n",
      "                                                                 \n",
      " max_pooling2d (MaxPooling2  (None, 32, 32, 32)        0         \n",
      " D)                                                              \n",
      "                                                                 \n",
      " flatten (Flatten)           (None, 32768)             0         \n",
      "                                                                 \n",
      " dense (Dense)               (None, 1)                 32769     \n",
      "                                                                 \n",
      "=================================================================\n",
      "Total params: 37633 (147.00 KB)\n",
      "Trainable params: 37569 (146.75 KB)\n",
      "Non-trainable params: 64 (256.00 Byte)\n",
      "_________________________________________________________________\n"
     ]
    }
   ],
   "source": [
    "happy_model.summary()"
   ]
  },
  {
   "cell_type": "code",
   "execution_count": 16,
   "metadata": {
    "colab": {
     "base_uri": "https://localhost:8080/"
    },
    "id": "3U0c7TqGRcDX",
    "outputId": "664d3157-c448-476b-d716-f58ebc347173"
   },
   "outputs": [
    {
     "name": "stdout",
     "output_type": "stream",
     "text": [
      "Epoch 1/10\n",
      "38/38 [==============================] - 1s 18ms/step - loss: 2.0607 - accuracy: 0.6500\n",
      "Epoch 2/10\n",
      "38/38 [==============================] - 1s 16ms/step - loss: 0.2228 - accuracy: 0.9067\n",
      "Epoch 3/10\n",
      "38/38 [==============================] - 1s 17ms/step - loss: 0.2320 - accuracy: 0.9150\n",
      "Epoch 4/10\n",
      "38/38 [==============================] - 1s 17ms/step - loss: 0.1428 - accuracy: 0.9383\n",
      "Epoch 5/10\n",
      "38/38 [==============================] - 1s 17ms/step - loss: 0.0833 - accuracy: 0.9700\n",
      "Epoch 6/10\n",
      "38/38 [==============================] - 1s 17ms/step - loss: 0.0868 - accuracy: 0.9700\n",
      "Epoch 7/10\n",
      "38/38 [==============================] - 1s 18ms/step - loss: 0.1043 - accuracy: 0.9667\n",
      "Epoch 8/10\n",
      "38/38 [==============================] - 1s 18ms/step - loss: 0.0918 - accuracy: 0.9717\n",
      "Epoch 9/10\n",
      "38/38 [==============================] - 1s 17ms/step - loss: 0.0949 - accuracy: 0.9567\n",
      "Epoch 10/10\n",
      "38/38 [==============================] - 1s 16ms/step - loss: 0.0453 - accuracy: 0.9900\n"
     ]
    },
    {
     "data": {
      "text/plain": [
       "<keras.src.callbacks.History at 0x2a95e44d0>"
      ]
     },
     "execution_count": 16,
     "metadata": {},
     "output_type": "execute_result"
    }
   ],
   "source": [
    "happy_model.fit(X_train, y_train, epochs = 10, batch_size = 16)"
   ]
  },
  {
   "cell_type": "code",
   "execution_count": 20,
   "metadata": {
    "colab": {
     "base_uri": "https://localhost:8080/"
    },
    "id": "-h9IV9_7RcA-",
    "outputId": "b5b5844b-3874-40bc-95e0-9476ee71db28"
   },
   "outputs": [
    {
     "name": "stdout",
     "output_type": "stream",
     "text": [
      "5/5 [==============================] - 0s 9ms/step - loss: 0.1742 - accuracy: 0.9400\n",
      "Test Accuracy: 0.9399999976158142 and Test Loss : 0.17418499290943146\n"
     ]
    }
   ],
   "source": [
    "# Evaluate your model\n",
    "loss, accuracy = happy_model.evaluate(X_test, y_test)\n",
    "print(\"Test Accuracy: {} and Test Loss : {}\".format(accuracy,loss))"
   ]
  },
  {
   "cell_type": "code",
   "execution_count": 22,
   "metadata": {
    "id": "ZUWkAdasRb23"
   },
   "outputs": [],
   "source": [
    "from sklearn.metrics import confusion_matrix\n",
    "import seaborn as sns"
   ]
  },
  {
   "cell_type": "code",
   "execution_count": 26,
   "metadata": {
    "id": "1xxkTafyRb0d"
   },
   "outputs": [
    {
     "name": "stdout",
     "output_type": "stream",
     "text": [
      "5/5 [==============================] - 0s 9ms/step\n"
     ]
    },
    {
     "data": {
      "image/png": "[encoded data removed]",
      "text/plain": [
       "<Figure size 400x400 with 1 Axes>"
      ]
     },
     "metadata": {},
     "output_type": "display_data"
    }
   ],
   "source": [
    "# Make predictions on test set\n",
    "y_pred = happy_model.predict(X_test)\n",
    "y_predicted_labels = np.round(y_pred).flatten()\n",
    "\n",
    "# Convert float predictions to binary\n",
    "predicted_labels = (y_predicted_labels > 0.5).astype(int)\n",
    "\n",
    "# Create confusion matrix\n",
    "cm = confusion_matrix(y_test, y_predicted_labels)\n",
    "\n",
    "# Plot confusion matrix\n",
    "plt.figure(figsize=(4, 4))\n",
    "sns.heatmap(cm, annot=True, fmt='d', cmap='Blues', cbar=False,\n",
    "            xticklabels=['Not Happy', 'Happy'], yticklabels=['Not Happy', 'Happy'])\n",
    "plt.xlabel('Predicted labels')\n",
    "plt.ylabel('True labels')\n",
    "plt.title('Confusion Matrix')\n",
    "plt.show()"
   ]
  },
  {
   "cell_type": "code",
   "execution_count": null,
   "metadata": {
    "id": "eBBkRqRtRbx8"
   },
   "outputs": [],
   "source": []
  },
  {
   "cell_type": "code",
   "execution_count": null,
   "metadata": {
    "id": "v-XEgLtORbvy"
   },
   "outputs": [],
   "source": []
  },
  {
   "cell_type": "code",
   "execution_count": null,
   "metadata": {
    "id": "44qRaWu6RbtY"
   },
   "outputs": [],
   "source": []
  },
  {
   "cell_type": "code",
   "execution_count": null,
   "metadata": {
    "id": "QCob5F5nRbq-"
   },
   "outputs": [],
   "source": []
  },
  {
   "cell_type": "code",
   "execution_count": null,
   "metadata": {
    "id": "RBoGICugRbot"
   },
   "outputs": [],
   "source": []
  },
  {
   "cell_type": "code",
   "execution_count": null,
   "metadata": {
    "id": "lIfKIwSIRbmU"
   },
   "outputs": [],
   "source": []
  },
  {
   "cell_type": "code",
   "execution_count": null,
   "metadata": {
    "id": "Irt_64JfRbkD"
   },
   "outputs": [],
   "source": []
  },
  {
   "cell_type": "code",
   "execution_count": null,
   "metadata": {
    "id": "DhReHGxXRbh6"
   },
   "outputs": [],
   "source": []
  },
  {
   "cell_type": "code",
   "execution_count": null,
   "metadata": {
    "id": "1hG2JEfCRbfh"
   },
   "outputs": [],
   "source": []
  },
  {
   "cell_type": "code",
   "execution_count": null,
   "metadata": {
    "id": "v5Zl3Av_RbdG"
   },
   "outputs": [],
   "source": []
  },
  {
   "cell_type": "code",
   "execution_count": null,
   "metadata": {
    "id": "NwsrSImuRba8"
   },
   "outputs": [],
   "source": []
  },
  {
   "cell_type": "code",
   "execution_count": null,
   "metadata": {
    "id": "kzT2zuCzRbYy"
   },
   "outputs": [],
   "source": []
  },
  {
   "cell_type": "code",
   "execution_count": null,
   "metadata": {
    "id": "e52ejogZRbWS"
   },
   "outputs": [],
   "source": []
  },
  {
   "cell_type": "code",
   "execution_count": null,
   "metadata": {
    "id": "nFJe-7UpRbRt"
   },
   "outputs": [],
   "source": []
  },
  {
   "cell_type": "code",
   "execution_count": null,
   "metadata": {
    "id": "VIkuQ3SqRbPu"
   },
   "outputs": [],
   "source": []
  }
 ],
 "metadata": {
  "colab": {
   "provenance": []
  },
  "kernelspec": {
   "display_name": "Python 3 (ipykernel)",
   "language": "python",
   "name": "python3"
  },
  "language_info": {
   "codemirror_mode": {
    "name": "ipython",
    "version": 3
   },
   "file_extension": ".py",
   "mimetype": "text/x-python",
   "name": "python",
   "nbconvert_exporter": "python",
   "pygments_lexer": "ipython3",
   "version": "3.11.7"
  }
 },
 "nbformat": 4,
 "nbformat_minor": 4
}
